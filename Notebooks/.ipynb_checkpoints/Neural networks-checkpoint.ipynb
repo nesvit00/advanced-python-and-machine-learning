{
 "cells": [
  {
   "cell_type": "markdown",
   "id": "1f2d9208",
   "metadata": {},
   "source": [
    "# Neural networks\n",
    "\n",
    "A neural network is inspired by the structure and function of the human brain. It consists of connected nodes called artificial neurons, which are organized into layers. Each layer processes the inputs and passes them to the next layer until the last layer returns the outputs. \n",
    "\n",
    "There are several types of neural networks, where each of it is suited for different data types or tasks. Frequently used neural networks are **feedforward networks** as a standard architecture, **convolutional neural networks** for image processing, and **variational autoencoders** for data synthesis.\n",
    "\n",
    "In the following example we implement a simple classifier for our already familier MNIST dataset."
   ]
  },
  {
   "cell_type": "code",
   "execution_count": 1,
   "id": "e38cff59",
   "metadata": {},
   "outputs": [
    {
     "name": "stdout",
     "output_type": "stream",
     "text": [
      "Epoch 1/10\n"
     ]
    },
    {
     "name": "stderr",
     "output_type": "stream",
     "text": [
      "2023-01-31 14:21:47.722726: W tensorflow/tsl/platform/profile_utils/cpu_utils.cc:128] Failed to get CPU frequency: 0 Hz\n"
     ]
    },
    {
     "name": "stdout",
     "output_type": "stream",
     "text": [
      "313/313 [==============================] - 2s 6ms/step - loss: 0.3825 - accuracy: 0.8887\n",
      "Epoch 2/10\n",
      "313/313 [==============================] - 2s 6ms/step - loss: 0.1361 - accuracy: 0.9608\n",
      "Epoch 3/10\n",
      "313/313 [==============================] - 3s 8ms/step - loss: 0.0754 - accuracy: 0.9781\n",
      "Epoch 4/10\n",
      "313/313 [==============================] - 3s 9ms/step - loss: 0.0475 - accuracy: 0.9864\n",
      "Epoch 5/10\n",
      "313/313 [==============================] - 3s 8ms/step - loss: 0.0310 - accuracy: 0.9913\n",
      "Epoch 6/10\n",
      "313/313 [==============================] - 3s 8ms/step - loss: 0.0180 - accuracy: 0.9958\n",
      "Epoch 7/10\n",
      "313/313 [==============================] - 3s 8ms/step - loss: 0.0100 - accuracy: 0.9977\n",
      "Epoch 8/10\n",
      "313/313 [==============================] - 3s 9ms/step - loss: 0.0082 - accuracy: 0.9980\n",
      "Epoch 9/10\n",
      "313/313 [==============================] - 3s 9ms/step - loss: 0.0098 - accuracy: 0.9973\n",
      "Epoch 10/10\n",
      "313/313 [==============================] - 3s 9ms/step - loss: 0.0062 - accuracy: 0.9988\n",
      "Test accuracy: 0.968999981880188\n"
     ]
    }
   ],
   "source": [
    "import numpy as np\n",
    "from tensorflow import keras\n",
    "\n",
    "\n",
    "# Load data\n",
    "data = np.load('data/mnist_data.npy', allow_pickle=True)\n",
    "target = np.load('data/mnist_labels.npy', allow_pickle=True)\n",
    "\n",
    "# Cast string labels as floats\n",
    "target = np.array(list(map(float, target)))\n",
    "\n",
    "# Preprocess data\n",
    "data = data.reshape(-1, 28, 28, 1) / 255.0\n",
    "\n",
    "# Split data into train, validation, and test sets\n",
    "n = 10000\n",
    "m = 2000\n",
    "k = 2000\n",
    "\n",
    "x_train = data[:n]\n",
    "y_train = target[:n]\n",
    "\n",
    "x_val = data[n:n+m]\n",
    "y_val = target[n:n+m]\n",
    "\n",
    "x_test = data[n+m:n+m+k]\n",
    "y_test = target[n+m:n+m+k]\n",
    "\n",
    "# Build the model\n",
    "model = keras.Sequential([\n",
    "    keras.layers.Conv2D(32, (3, 3), activation='relu', input_shape=(28, 28, 1)),\n",
    "    keras.layers.MaxPooling2D((2, 2)),\n",
    "    keras.layers.Flatten(),\n",
    "    keras.layers.Dense(128, activation='relu'),\n",
    "    keras.layers.Dense(10, activation='softmax')\n",
    "])\n",
    "\n",
    "# Compile the model\n",
    "model.compile(optimizer='adam',\n",
    "              loss='sparse_categorical_crossentropy',\n",
    "              metrics=['accuracy'])\n",
    "\n",
    "# Train the model\n",
    "model.fit(x_train, y_train, epochs=10)\n",
    "\n",
    "# Evaluate the model\n",
    "test_loss, test_acc = model.evaluate(x_test, y_test, verbose=0)\n",
    "print('Test accuracy:', test_acc)\n",
    "\n",
    "# Save the model\n",
    "model.save('data/mnist_classification_model.h5')\n"
   ]
  },
  {
   "cell_type": "code",
   "execution_count": 2,
   "id": "68e691da",
   "metadata": {},
   "outputs": [
    {
     "name": "stdout",
     "output_type": "stream",
     "text": [
      "Test accuracy: 0.968999981880188\n",
      "63/63 [==============================] - 0s 1ms/step\n",
      "[7 4 6 5 0 6 9 7 0 8]\n",
      "[7 4 6 5 0 6 9 7 0 8]\n"
     ]
    }
   ],
   "source": [
    "# Load the model\n",
    "model = keras.models.load_model('data/mnist_classification_model.h5')\n",
    "\n",
    "# Evaluate the model\n",
    "test_loss, test_acc = model.evaluate(x_test, y_test, verbose=0)\n",
    "print('Test accuracy:', test_acc)\n",
    "\n",
    "# Make predictions\n",
    "predictions = model.predict(x_test)\n",
    "\n",
    "# Print the first predictions and ground truth\n",
    "n = 10\n",
    "print(np.argmax(predictions[0:n], axis=1))\n",
    "print(y_test[0:n].astype('int32'))"
   ]
  },
  {
   "cell_type": "code",
   "execution_count": null,
   "id": "88ba3783",
   "metadata": {},
   "outputs": [],
   "source": []
  }
 ],
 "metadata": {
  "kernelspec": {
   "display_name": "Python 3 (ipykernel)",
   "language": "python",
   "name": "python3"
  },
  "language_info": {
   "codemirror_mode": {
    "name": "ipython",
    "version": 3
   },
   "file_extension": ".py",
   "mimetype": "text/x-python",
   "name": "python",
   "nbconvert_exporter": "python",
   "pygments_lexer": "ipython3",
   "version": "3.9.13"
  }
 },
 "nbformat": 4,
 "nbformat_minor": 5
}
