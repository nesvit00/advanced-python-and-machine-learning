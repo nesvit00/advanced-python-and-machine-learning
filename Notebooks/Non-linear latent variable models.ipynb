{
 "cells": [
  {
   "cell_type": "markdown",
   "id": "eb070be4",
   "metadata": {},
   "source": [
    "# Non-linear latent variable models\n",
    "\n",
    "Non-linear latent variable models are a class of statistical models that involve a set of latent (unobserved) variables that are related to observed variables through a non-linear relationship. These models are used to work with complex data sets. Some examples of non-linear latent variable models are autoencoders, variational autoencoders, and generative adversarial networks.\n",
    "\n",
    "Linear latent variable models and non-linear latent variable models are both types of statistical models that involve a set of latent variables. However, linear latent variable models assume that the relationship between the latent variables and the observed variables is linear. On the other hand, non-linear latent variable models assume that the relationship between the latent variables and the observed variables is non-linear. This means that the relationship cannot be represented by a linear equation, but by a more complex mathematical function, such as polynomials or neural networks."
   ]
  },
  {
   "cell_type": "markdown",
   "id": "dedd9b3a",
   "metadata": {},
   "source": [
    "Apply VAE on a computer vision dataset"
   ]
  },
  {
   "cell_type": "markdown",
   "id": "05f0ac07",
   "metadata": {},
   "source": [
    "Apply VAE on a molecular dataset"
   ]
  },
  {
   "cell_type": "code",
   "execution_count": null,
   "id": "6542b18a",
   "metadata": {},
   "outputs": [],
   "source": []
  }
 ],
 "metadata": {
  "kernelspec": {
   "display_name": "Python 3 (ipykernel)",
   "language": "python",
   "name": "python3"
  },
  "language_info": {
   "codemirror_mode": {
    "name": "ipython",
    "version": 3
   },
   "file_extension": ".py",
   "mimetype": "text/x-python",
   "name": "python",
   "nbconvert_exporter": "python",
   "pygments_lexer": "ipython3",
   "version": "3.9.13"
  }
 },
 "nbformat": 4,
 "nbformat_minor": 5
}
